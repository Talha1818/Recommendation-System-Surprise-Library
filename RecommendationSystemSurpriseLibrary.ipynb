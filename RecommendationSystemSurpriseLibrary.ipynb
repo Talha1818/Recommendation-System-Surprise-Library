{
  "cells": [
    {
      "cell_type": "code",
      "execution_count": null,
      "id": "26495be5",
      "metadata": {
        "id": "26495be5"
      },
      "outputs": [],
      "source": [
        "# improt the necessary libraries\n",
        "import pandas as pd\n",
        "import numpy as np\n",
        "import matplotlib.pyplot as plt\n",
        "import matplotlib as mpl\n",
        "import seaborn as sns\n",
        "from tabulate import tabulate\n",
        "\n",
        "\n",
        "import warnings\n",
        "warnings.filterwarnings('ignore')"
      ]
    },
    {
      "cell_type": "code",
      "execution_count": null,
      "id": "4bd0fdf6",
      "metadata": {
        "id": "4bd0fdf6"
      },
      "outputs": [],
      "source": [
        "df1 = pd.read_csv(\"phone_user_review_file_1.csv\",encoding='latin-1')\n",
        "df2 = pd.read_csv(\"phone_user_review_file_2.csv\",encoding='latin-1')\n",
        "df3 = pd.read_csv(\"phone_user_review_file_3.csv\",encoding='latin-1')\n",
        "df4 = pd.read_csv(\"phone_user_review_file_4.csv\",encoding='latin-1')\n",
        "df5 = pd.read_csv(\"phone_user_review_file_5.csv\",encoding='latin-1')\n",
        "df6 = pd.read_csv(\"phone_user_review_file_6.csv\",encoding='latin-1')\n",
        "\n",
        "# 1. Merge all the provided CSVs into one dataFrame.  \n",
        "df = pd.concat([df1,df2,df3,df4,df5,df6], axis= 0)"
      ]
    },
    {
      "cell_type": "code",
      "execution_count": null,
      "id": "8273cca9",
      "metadata": {
        "id": "8273cca9",
        "outputId": "1b1a94c9-f8f2-4475-96ec-6e238f25cad6"
      },
      "outputs": [
        {
          "name": "stdout",
          "output_type": "stream",
          "text": [
            "Rows: 1415133\n",
            "Columns: 11\n"
          ]
        },
        {
          "data": {
            "text/html": [
              "<div>\n",
              "<style scoped>\n",
              "    .dataframe tbody tr th:only-of-type {\n",
              "        vertical-align: middle;\n",
              "    }\n",
              "\n",
              "    .dataframe tbody tr th {\n",
              "        vertical-align: top;\n",
              "    }\n",
              "\n",
              "    .dataframe thead th {\n",
              "        text-align: right;\n",
              "    }\n",
              "</style>\n",
              "<table border=\"1\" class=\"dataframe\">\n",
              "  <thead>\n",
              "    <tr style=\"text-align: right;\">\n",
              "      <th></th>\n",
              "      <th>phone_url</th>\n",
              "      <th>date</th>\n",
              "      <th>lang</th>\n",
              "      <th>country</th>\n",
              "      <th>source</th>\n",
              "      <th>domain</th>\n",
              "      <th>score</th>\n",
              "      <th>score_max</th>\n",
              "      <th>extract</th>\n",
              "      <th>author</th>\n",
              "      <th>product</th>\n",
              "    </tr>\n",
              "  </thead>\n",
              "  <tbody>\n",
              "    <tr>\n",
              "      <th>0</th>\n",
              "      <td>/cellphones/samsung-galaxy-s8/</td>\n",
              "      <td>5/2/2017</td>\n",
              "      <td>en</td>\n",
              "      <td>us</td>\n",
              "      <td>Verizon Wireless</td>\n",
              "      <td>verizonwireless.com</td>\n",
              "      <td>10.0</td>\n",
              "      <td>10.0</td>\n",
              "      <td>As a diehard Samsung fan who has had every Sam...</td>\n",
              "      <td>CarolAnn35</td>\n",
              "      <td>Samsung Galaxy S8</td>\n",
              "    </tr>\n",
              "    <tr>\n",
              "      <th>1</th>\n",
              "      <td>/cellphones/samsung-galaxy-s8/</td>\n",
              "      <td>4/28/2017</td>\n",
              "      <td>en</td>\n",
              "      <td>us</td>\n",
              "      <td>Phone Arena</td>\n",
              "      <td>phonearena.com</td>\n",
              "      <td>10.0</td>\n",
              "      <td>10.0</td>\n",
              "      <td>Love the phone. the phone is sleek and smooth ...</td>\n",
              "      <td>james0923</td>\n",
              "      <td>Samsung Galaxy S8</td>\n",
              "    </tr>\n",
              "    <tr>\n",
              "      <th>2</th>\n",
              "      <td>/cellphones/samsung-galaxy-s8/</td>\n",
              "      <td>5/4/2017</td>\n",
              "      <td>en</td>\n",
              "      <td>us</td>\n",
              "      <td>Amazon</td>\n",
              "      <td>amazon.com</td>\n",
              "      <td>6.0</td>\n",
              "      <td>10.0</td>\n",
              "      <td>Adequate feel. Nice heft. Processor's still sl...</td>\n",
              "      <td>R. Craig</td>\n",
              "      <td>Samsung Galaxy S8 (64GB) G950U 5.8\" 4G LTE Unl...</td>\n",
              "    </tr>\n",
              "    <tr>\n",
              "      <th>3</th>\n",
              "      <td>/cellphones/samsung-galaxy-s8/</td>\n",
              "      <td>5/2/2017</td>\n",
              "      <td>en</td>\n",
              "      <td>us</td>\n",
              "      <td>Samsung</td>\n",
              "      <td>samsung.com</td>\n",
              "      <td>9.2</td>\n",
              "      <td>10.0</td>\n",
              "      <td>Never disappointed. One of the reasons I've be...</td>\n",
              "      <td>Buster2020</td>\n",
              "      <td>Samsung Galaxy S8 64GB (AT&amp;T)</td>\n",
              "    </tr>\n",
              "    <tr>\n",
              "      <th>4</th>\n",
              "      <td>/cellphones/samsung-galaxy-s8/</td>\n",
              "      <td>5/11/2017</td>\n",
              "      <td>en</td>\n",
              "      <td>us</td>\n",
              "      <td>Verizon Wireless</td>\n",
              "      <td>verizonwireless.com</td>\n",
              "      <td>4.0</td>\n",
              "      <td>10.0</td>\n",
              "      <td>I've now found that i'm in a group of people t...</td>\n",
              "      <td>S Ate Mine</td>\n",
              "      <td>Samsung Galaxy S8</td>\n",
              "    </tr>\n",
              "  </tbody>\n",
              "</table>\n",
              "</div>"
            ],
            "text/plain": [
              "                        phone_url       date lang country            source  \\\n",
              "0  /cellphones/samsung-galaxy-s8/   5/2/2017   en      us  Verizon Wireless   \n",
              "1  /cellphones/samsung-galaxy-s8/  4/28/2017   en      us       Phone Arena   \n",
              "2  /cellphones/samsung-galaxy-s8/   5/4/2017   en      us            Amazon   \n",
              "3  /cellphones/samsung-galaxy-s8/   5/2/2017   en      us           Samsung   \n",
              "4  /cellphones/samsung-galaxy-s8/  5/11/2017   en      us  Verizon Wireless   \n",
              "\n",
              "                domain  score  score_max  \\\n",
              "0  verizonwireless.com   10.0       10.0   \n",
              "1       phonearena.com   10.0       10.0   \n",
              "2           amazon.com    6.0       10.0   \n",
              "3          samsung.com    9.2       10.0   \n",
              "4  verizonwireless.com    4.0       10.0   \n",
              "\n",
              "                                             extract       author  \\\n",
              "0  As a diehard Samsung fan who has had every Sam...   CarolAnn35   \n",
              "1  Love the phone. the phone is sleek and smooth ...    james0923   \n",
              "2  Adequate feel. Nice heft. Processor's still sl...     R. Craig   \n",
              "3  Never disappointed. One of the reasons I've be...  Buster2020    \n",
              "4  I've now found that i'm in a group of people t...   S Ate Mine   \n",
              "\n",
              "                                             product  \n",
              "0                                  Samsung Galaxy S8  \n",
              "1                                  Samsung Galaxy S8  \n",
              "2  Samsung Galaxy S8 (64GB) G950U 5.8\" 4G LTE Unl...  \n",
              "3                      Samsung Galaxy S8 64GB (AT&T)  \n",
              "4                                  Samsung Galaxy S8  "
            ]
          },
          "execution_count": 3,
          "metadata": {},
          "output_type": "execute_result"
        }
      ],
      "source": [
        "# 2. Explore, understand the Data and share at least 2 observations.  \n",
        "print(\"Rows:\", df.shape[0])\n",
        "print(\"Columns:\", df.shape[1])\n",
        "\n",
        "df.head()"
      ]
    },
    {
      "cell_type": "code",
      "execution_count": null,
      "id": "ae060c6f",
      "metadata": {
        "id": "ae060c6f",
        "outputId": "c970e4db-9fae-4daa-a9d3-775dac98d6bf"
      },
      "outputs": [
        {
          "name": "stdout",
          "output_type": "stream",
          "text": [
            "Unique Users:  801103\n",
            "Unique Products:  61313\n"
          ]
        }
      ],
      "source": [
        "# lets try to checl unique users and product\n",
        "print(\"Unique Users: \",df.author.nunique())\n",
        "print(\"Unique Products: \",df['product'].nunique())"
      ]
    },
    {
      "cell_type": "code",
      "execution_count": null,
      "id": "2d97e196",
      "metadata": {
        "id": "2d97e196",
        "outputId": "48bc900f-a642-4ea8-acc1-9147fa15ccdb"
      },
      "outputs": [
        {
          "name": "stdout",
          "output_type": "stream",
          "text": [
            "****************************************************************************************************\n",
            "                     mean  count\n",
            "author                          \n",
            "Amazon Customer  7.057341  76978\n",
            "Cliente Amazon   7.994094  19304\n",
            "e-bit            8.891377   8663\n",
            "Client d'Amazon  7.271125   7716\n",
            "Amazon Kunde     7.290526   4750\n",
            "****************************************************************************************************\n",
            "                                       mean  count\n",
            "product                                           \n",
            "Lenovo Vibe K4 Note (White,16GB)   7.180253   5226\n",
            "Lenovo Vibe K4 Note (Black, 16GB)  7.174032   4390\n",
            "OnePlus 3 (Graphite, 64 GB)        8.725323   4103\n",
            "OnePlus 3 (Soft Gold, 64 GB)       8.504070   3563\n",
            "Huawei P8lite zwart / 16 GB        8.447802   2707\n",
            "****************************************************************************************************\n"
          ]
        }
      ],
      "source": [
        "# Top users, rated good on average\n",
        "data_user_rate=pd.DataFrame(df.groupby('author')['score'].agg(['mean','count']),\n",
        "                            columns=['mean','count']).sort_values(by=['count','mean'],ascending=False)[:20]\n",
        "data_product_rate=pd.DataFrame(df.groupby('product')['score'].agg(['mean','count']),\n",
        "                            columns=['mean','count']).sort_values(by=['count','mean'],ascending=False)[:20]\n",
        "print(\"*\"*100)\n",
        "print(data_user_rate.head(5))\n",
        "print(\"*\"*100)\n",
        "print(data_product_rate.head(5))\n",
        "print(\"*\"*100)"
      ]
    },
    {
      "cell_type": "code",
      "execution_count": null,
      "id": "02caa777",
      "metadata": {
        "id": "02caa777"
      },
      "outputs": [],
      "source": [
        "def pie_chart(df, col, top=None):\n",
        "    # lets try to check the distributin of specific column\n",
        "    df[col].value_counts()[:top].plot(kind='pie', figsize=(15,8),autopct='%1.0f%%',textprops={'fontsize': 14})\n",
        "    plt.title(f\"All {col} Distribution in Dataset\", fontsize=18)\n",
        "    plt.show()"
      ]
    },
    {
      "cell_type": "code",
      "execution_count": null,
      "id": "290c2ed0",
      "metadata": {
        "id": "290c2ed0",
        "outputId": "e1582f6d-a1dd-4fb2-db3d-12cc11a03166",
        "scrolled": false
      },
      "outputs": [
        {
          "data": {
            "image/png": "[encoded data removed]",
            "text/plain": [
              "<Figure size 1080x576 with 1 Axes>"
            ]
          },
          "metadata": {},
          "output_type": "display_data"
        },
        {
          "data": {
            "image/png": "[encoded data removed]",
            "text/plain": [
              "<Figure size 1080x576 with 1 Axes>"
            ]
          },
          "metadata": {},
          "output_type": "display_data"
        },
        {
          "data": {
            "image/png": "[encoded data removed]",
            "text/plain": [
              "<Figure size 1080x576 with 1 Axes>"
            ]
          },
          "metadata": {},
          "output_type": "display_data"
        },
        {
          "data": {
            "image/png": "[encoded data removed]",
            "text/plain": [
              "<Figure size 1080x576 with 1 Axes>"
            ]
          },
          "metadata": {},
          "output_type": "display_data"
        },
        {
          "data": {
            "image/png": "[encoded data removed]",
            "text/plain": [
              "<Figure size 1080x576 with 1 Axes>"
            ]
          },
          "metadata": {},
          "output_type": "display_data"
        }
      ],
      "source": [
        "pie_chart(df, 'lang')\n",
        "pie_chart(df, 'country')\n",
        "pie_chart(df, 'source', top=5)\n",
        "pie_chart(df, 'domain', top=5)\n",
        "pie_chart(df, 'product', top=5)"
      ]
    },
    {
      "cell_type": "markdown",
      "id": "0c04a035",
      "metadata": {
        "id": "0c04a035"
      },
      "source": [
        "* From above analysis, we can see the distribution of features.\n",
        "* english language (39%) is dominent as compare to other langs in e-commerce.\n",
        "* Most envolve the US contry (23%) in e-commerce field.\n",
        "* Most selling/buying smarphone/electronic through Amazon (74%).\n",
        "* Domain amazon.com (32%) is most use as compare to other amazon domain.\n",
        "* Lenovo Vibe K4 Note (White,16GB) is a demand product."
      ]
    },
    {
      "cell_type": "code",
      "execution_count": null,
      "id": "7ac37fdb",
      "metadata": {
        "id": "7ac37fdb",
        "outputId": "32c42081-9c24-4747-b0cc-6ec250743347"
      },
      "outputs": [
        {
          "name": "stdout",
          "output_type": "stream",
          "text": [
            "               count      mean       std   min   25%   50%   75%   max\n",
            "score      1351644.0   8.00706  2.616121   0.2   7.2   9.2  10.0  10.0\n",
            "score_max  1351644.0  10.00000  0.000000  10.0  10.0  10.0  10.0  10.0\n"
          ]
        },
        {
          "data": {
            "image/png": "[encoded data removed]",
            "text/plain": [
              "<Figure size 432x288 with 2 Axes>"
            ]
          },
          "metadata": {
            "needs_background": "light"
          },
          "output_type": "display_data"
        }
      ],
      "source": [
        "print(df[['score','score_max']].describe().T)\n",
        "df.select_dtypes(include=[int, float]).hist()\n",
        "plt.show()"
      ]
    },
    {
      "cell_type": "code",
      "execution_count": null,
      "id": "080709b9",
      "metadata": {
        "id": "080709b9"
      },
      "outputs": [],
      "source": [
        "# 3. Round off scores to the nearest integers.  \n",
        "numeirc_cols = df.select_dtypes(include=[int, float]).columns.tolist()\n",
        "for col in numeirc_cols:\n",
        "    df[col] = round(df[col], 2)"
      ]
    },
    {
      "cell_type": "code",
      "execution_count": null,
      "id": "98e68881",
      "metadata": {
        "id": "98e68881",
        "outputId": "e924f3ee-6ba6-422a-d211-2c42e8b81158"
      },
      "outputs": [
        {
          "data": {
            "text/plain": [
              "phone_url        0\n",
              "date             0\n",
              "lang             0\n",
              "country          0\n",
              "source           0\n",
              "domain           0\n",
              "score        63489\n",
              "score_max    63489\n",
              "extract      19361\n",
              "author       63202\n",
              "product          1\n",
              "dtype: int64"
            ]
          },
          "execution_count": 10,
          "metadata": {},
          "output_type": "execute_result"
        }
      ],
      "source": [
        "# 4. Check for missing values. Impute the missing values, if any.  \n",
        "df.isnull().sum()"
      ]
    },
    {
      "cell_type": "code",
      "execution_count": null,
      "id": "057eb06a",
      "metadata": {
        "id": "057eb06a"
      },
      "outputs": [],
      "source": [
        "# lets fill the miussing values of categorical features with most frequent values and\n",
        "# numerical features with mean/average\n",
        "for i in list(df.columns):\n",
        "    if df[i].dtype == 'object':\n",
        "        df[i] = df[i].fillna(df[i].mode().values[0])\n",
        "    else:\n",
        "        df[i] = round(df[i].fillna(df[i].mean()),2)"
      ]
    },
    {
      "cell_type": "code",
      "execution_count": null,
      "id": "28e3e942",
      "metadata": {
        "id": "28e3e942",
        "outputId": "d472d408-4878-4ea1-880b-292af0e225f0"
      },
      "outputs": [
        {
          "data": {
            "text/plain": [
              "phone_url    0\n",
              "date         0\n",
              "lang         0\n",
              "country      0\n",
              "source       0\n",
              "domain       0\n",
              "score        0\n",
              "score_max    0\n",
              "extract      0\n",
              "author       0\n",
              "product      0\n",
              "dtype: int64"
            ]
          },
          "execution_count": 12,
          "metadata": {},
          "output_type": "execute_result"
        }
      ],
      "source": [
        "df.isnull().sum()"
      ]
    },
    {
      "cell_type": "code",
      "execution_count": null,
      "id": "87d82bc0",
      "metadata": {
        "id": "87d82bc0"
      },
      "outputs": [],
      "source": [
        "# 5. Check for duplicate values and remove them, if any\n",
        "bool_series = df.duplicated(keep='first')\n",
        "df = df[~bool_series]"
      ]
    },
    {
      "cell_type": "code",
      "execution_count": null,
      "id": "8ac04ab1",
      "metadata": {
        "id": "8ac04ab1",
        "outputId": "90210f3b-397a-4563-8fd8-68bccc7fd1d4"
      },
      "outputs": [
        {
          "data": {
            "text/html": [
              "<div>\n",
              "<style scoped>\n",
              "    .dataframe tbody tr th:only-of-type {\n",
              "        vertical-align: middle;\n",
              "    }\n",
              "\n",
              "    .dataframe tbody tr th {\n",
              "        vertical-align: top;\n",
              "    }\n",
              "\n",
              "    .dataframe thead th {\n",
              "        text-align: right;\n",
              "    }\n",
              "</style>\n",
              "<table border=\"1\" class=\"dataframe\">\n",
              "  <thead>\n",
              "    <tr style=\"text-align: right;\">\n",
              "      <th></th>\n",
              "      <th>phone_url</th>\n",
              "      <th>date</th>\n",
              "      <th>lang</th>\n",
              "      <th>country</th>\n",
              "      <th>source</th>\n",
              "      <th>domain</th>\n",
              "      <th>score</th>\n",
              "      <th>score_max</th>\n",
              "      <th>extract</th>\n",
              "      <th>author</th>\n",
              "      <th>product</th>\n",
              "    </tr>\n",
              "  </thead>\n",
              "  <tbody>\n",
              "    <tr>\n",
              "      <th>0</th>\n",
              "      <td>/cellphones/samsung-galaxy-s8/</td>\n",
              "      <td>5/2/2017</td>\n",
              "      <td>en</td>\n",
              "      <td>us</td>\n",
              "      <td>Verizon Wireless</td>\n",
              "      <td>verizonwireless.com</td>\n",
              "      <td>10.0</td>\n",
              "      <td>10.0</td>\n",
              "      <td>As a diehard Samsung fan who has had every Sam...</td>\n",
              "      <td>CarolAnn35</td>\n",
              "      <td>Samsung Galaxy S8</td>\n",
              "    </tr>\n",
              "    <tr>\n",
              "      <th>1</th>\n",
              "      <td>/cellphones/samsung-galaxy-s8/</td>\n",
              "      <td>4/28/2017</td>\n",
              "      <td>en</td>\n",
              "      <td>us</td>\n",
              "      <td>Phone Arena</td>\n",
              "      <td>phonearena.com</td>\n",
              "      <td>10.0</td>\n",
              "      <td>10.0</td>\n",
              "      <td>Love the phone. the phone is sleek and smooth ...</td>\n",
              "      <td>james0923</td>\n",
              "      <td>Samsung Galaxy S8</td>\n",
              "    </tr>\n",
              "    <tr>\n",
              "      <th>2</th>\n",
              "      <td>/cellphones/samsung-galaxy-s8/</td>\n",
              "      <td>5/4/2017</td>\n",
              "      <td>en</td>\n",
              "      <td>us</td>\n",
              "      <td>Amazon</td>\n",
              "      <td>amazon.com</td>\n",
              "      <td>6.0</td>\n",
              "      <td>10.0</td>\n",
              "      <td>Adequate feel. Nice heft. Processor's still sl...</td>\n",
              "      <td>R. Craig</td>\n",
              "      <td>Samsung Galaxy S8 (64GB) G950U 5.8\" 4G LTE Unl...</td>\n",
              "    </tr>\n",
              "    <tr>\n",
              "      <th>3</th>\n",
              "      <td>/cellphones/samsung-galaxy-s8/</td>\n",
              "      <td>5/2/2017</td>\n",
              "      <td>en</td>\n",
              "      <td>us</td>\n",
              "      <td>Samsung</td>\n",
              "      <td>samsung.com</td>\n",
              "      <td>9.2</td>\n",
              "      <td>10.0</td>\n",
              "      <td>Never disappointed. One of the reasons I've be...</td>\n",
              "      <td>Buster2020</td>\n",
              "      <td>Samsung Galaxy S8 64GB (AT&amp;T)</td>\n",
              "    </tr>\n",
              "    <tr>\n",
              "      <th>4</th>\n",
              "      <td>/cellphones/samsung-galaxy-s8/</td>\n",
              "      <td>5/11/2017</td>\n",
              "      <td>en</td>\n",
              "      <td>us</td>\n",
              "      <td>Verizon Wireless</td>\n",
              "      <td>verizonwireless.com</td>\n",
              "      <td>4.0</td>\n",
              "      <td>10.0</td>\n",
              "      <td>I've now found that i'm in a group of people t...</td>\n",
              "      <td>S Ate Mine</td>\n",
              "      <td>Samsung Galaxy S8</td>\n",
              "    </tr>\n",
              "  </tbody>\n",
              "</table>\n",
              "</div>"
            ],
            "text/plain": [
              "                        phone_url       date lang country            source  \\\n",
              "0  /cellphones/samsung-galaxy-s8/   5/2/2017   en      us  Verizon Wireless   \n",
              "1  /cellphones/samsung-galaxy-s8/  4/28/2017   en      us       Phone Arena   \n",
              "2  /cellphones/samsung-galaxy-s8/   5/4/2017   en      us            Amazon   \n",
              "3  /cellphones/samsung-galaxy-s8/   5/2/2017   en      us           Samsung   \n",
              "4  /cellphones/samsung-galaxy-s8/  5/11/2017   en      us  Verizon Wireless   \n",
              "\n",
              "                domain  score  score_max  \\\n",
              "0  verizonwireless.com   10.0       10.0   \n",
              "1       phonearena.com   10.0       10.0   \n",
              "2           amazon.com    6.0       10.0   \n",
              "3          samsung.com    9.2       10.0   \n",
              "4  verizonwireless.com    4.0       10.0   \n",
              "\n",
              "                                             extract       author  \\\n",
              "0  As a diehard Samsung fan who has had every Sam...   CarolAnn35   \n",
              "1  Love the phone. the phone is sleek and smooth ...    james0923   \n",
              "2  Adequate feel. Nice heft. Processor's still sl...     R. Craig   \n",
              "3  Never disappointed. One of the reasons I've be...  Buster2020    \n",
              "4  I've now found that i'm in a group of people t...   S Ate Mine   \n",
              "\n",
              "                                             product  \n",
              "0                                  Samsung Galaxy S8  \n",
              "1                                  Samsung Galaxy S8  \n",
              "2  Samsung Galaxy S8 (64GB) G950U 5.8\" 4G LTE Unl...  \n",
              "3                      Samsung Galaxy S8 64GB (AT&T)  \n",
              "4                                  Samsung Galaxy S8  "
            ]
          },
          "execution_count": 14,
          "metadata": {},
          "output_type": "execute_result"
        }
      ],
      "source": [
        "df.head()"
      ]
    },
    {
      "cell_type": "code",
      "execution_count": null,
      "id": "8e156153",
      "metadata": {
        "id": "8e156153",
        "outputId": "4079cfb2-5e92-4fc1-e24e-8b568783a3e3"
      },
      "outputs": [
        {
          "name": "stdout",
          "output_type": "stream",
          "text": [
            "(1000000, 11)\n"
          ]
        }
      ],
      "source": [
        "# 6. Keep only 1 Million data samples. Use random state=612.  \n",
        "df = df.sample(n=1000000, random_state=612).reset_index(drop=True)\n",
        "print(df.shape)"
      ]
    },
    {
      "cell_type": "code",
      "execution_count": null,
      "id": "f584a3ba",
      "metadata": {
        "id": "f584a3ba",
        "outputId": "7bdf13a9-6ca7-42ef-8a6e-8bb1727b2627"
      },
      "outputs": [
        {
          "data": {
            "text/html": [
              "<div>\n",
              "<style scoped>\n",
              "    .dataframe tbody tr th:only-of-type {\n",
              "        vertical-align: middle;\n",
              "    }\n",
              "\n",
              "    .dataframe tbody tr th {\n",
              "        vertical-align: top;\n",
              "    }\n",
              "\n",
              "    .dataframe thead th {\n",
              "        text-align: right;\n",
              "    }\n",
              "</style>\n",
              "<table border=\"1\" class=\"dataframe\">\n",
              "  <thead>\n",
              "    <tr style=\"text-align: right;\">\n",
              "      <th></th>\n",
              "      <th>author</th>\n",
              "      <th>product</th>\n",
              "      <th>score</th>\n",
              "    </tr>\n",
              "  </thead>\n",
              "  <tbody>\n",
              "    <tr>\n",
              "      <th>0</th>\n",
              "      <td>gilay28</td>\n",
              "      <td>Nokia 6301</td>\n",
              "      <td>10.0</td>\n",
              "    </tr>\n",
              "    <tr>\n",
              "      <th>1</th>\n",
              "      <td>Stacy G.</td>\n",
              "      <td>Apple iPhone 4S Verizon Cellphone, 16GB, White</td>\n",
              "      <td>10.0</td>\n",
              "    </tr>\n",
              "    <tr>\n",
              "      <th>2</th>\n",
              "      <td>BulldoZer</td>\n",
              "      <td>Samsung Galaxy Note 3 Neo Smartphone (13,94 cm...</td>\n",
              "      <td>10.0</td>\n",
              "    </tr>\n",
              "    <tr>\n",
              "      <th>3</th>\n",
              "      <td>vinod kumar</td>\n",
              "      <td>Nokia 5030</td>\n",
              "      <td>6.0</td>\n",
              "    </tr>\n",
              "    <tr>\n",
              "      <th>4</th>\n",
              "      <td>Giorgio</td>\n",
              "      <td>Huawei P9 Plus Smartphone, LTE, Display 5.5'' ...</td>\n",
              "      <td>10.0</td>\n",
              "    </tr>\n",
              "  </tbody>\n",
              "</table>\n",
              "</div>"
            ],
            "text/plain": [
              "        author                                            product  score\n",
              "0      gilay28                                         Nokia 6301   10.0\n",
              "1     Stacy G.     Apple iPhone 4S Verizon Cellphone, 16GB, White   10.0\n",
              "2    BulldoZer  Samsung Galaxy Note 3 Neo Smartphone (13,94 cm...   10.0\n",
              "3  vinod kumar                                         Nokia 5030    6.0\n",
              "4      Giorgio  Huawei P9 Plus Smartphone, LTE, Display 5.5'' ...   10.0"
            ]
          },
          "execution_count": 16,
          "metadata": {},
          "output_type": "execute_result"
        }
      ],
      "source": [
        "# 7. Drop irrelevant features. Keep features like Author, Product, and Score.  \n",
        "df = df[['author', 'product', 'score']]\n",
        "df.head()"
      ]
    },
    {
      "cell_type": "code",
      "execution_count": null,
      "id": "0921b31c",
      "metadata": {
        "id": "0921b31c",
        "outputId": "4bbc56a3-a9d6-4341-ba86-cad3045360cf"
      },
      "outputs": [
        {
          "data": {
            "image/png": "[encoded data removed]",
            "text/plain": [
              "<Figure size 432x288 with 1 Axes>"
            ]
          },
          "metadata": {
            "needs_background": "light"
          },
          "output_type": "display_data"
        },
        {
          "name": "stdout",
          "output_type": "stream",
          "text": [
            "product\n",
            "Lenovo Vibe K4 Note (White,16GB)     3701\n",
            "Lenovo Vibe K4 Note (Black, 16GB)    3093\n",
            "OnePlus 3 (Graphite, 64 GB)          2889\n",
            "OnePlus 3 (Soft Gold, 64 GB)         2522\n",
            "Huawei P8lite zwart / 16 GB          1895\n",
            "Name: score, dtype: int64\n"
          ]
        }
      ],
      "source": [
        "# 1. Identify the most rated products. \n",
        "top5Products = df.groupby('product')['score'].count().sort_values(ascending=False)[:5]\n",
        "top5Products.plot(kind='bar', color=['Red', 'Green'])\n",
        "plt.show()\n",
        "print(top5Products)"
      ]
    },
    {
      "cell_type": "markdown",
      "id": "3015c122",
      "metadata": {
        "id": "3015c122"
      },
      "source": [
        "* From above analysis, we can see that Lenovo Vibe K4 Note (White,16GB) is a most rated product as compare to other products."
      ]
    },
    {
      "cell_type": "code",
      "execution_count": null,
      "id": "178606d9",
      "metadata": {
        "id": "178606d9",
        "outputId": "091cb23e-5f03-491b-e82c-05211d506da7"
      },
      "outputs": [
        {
          "data": {
            "image/png": "[encoded data removed]",
            "text/plain": [
              "<Figure size 432x288 with 1 Axes>"
            ]
          },
          "metadata": {
            "needs_background": "light"
          },
          "output_type": "display_data"
        },
        {
          "name": "stdout",
          "output_type": "stream",
          "text": [
            "author\n",
            "Amazon Customer    98479\n",
            "Cliente Amazon     13634\n",
            "e-bit               5948\n",
            "Client d'Amazon     5500\n",
            "Amazon Kunde        3307\n",
            "Name: score, dtype: int64\n"
          ]
        }
      ],
      "source": [
        "# 2. Identify the users with most number of reviews.  \n",
        "top5Users = df.groupby('author')['score'].count().sort_values(ascending=False)[:5]\n",
        "top5Users.plot(kind='bar', color=['Red', 'Green'])\n",
        "plt.show()\n",
        "print(top5Users)"
      ]
    },
    {
      "cell_type": "markdown",
      "id": "62d88161",
      "metadata": {
        "id": "62d88161"
      },
      "source": [
        "* From above analysis, we can see that Amazon users is the most reviews as compare to other users."
      ]
    },
    {
      "cell_type": "code",
      "execution_count": null,
      "id": "e5648842",
      "metadata": {
        "id": "e5648842",
        "outputId": "12e2e3a9-602e-40e1-fdc9-e6e9ee5055c7"
      },
      "outputs": [
        {
          "name": "stdout",
          "output_type": "stream",
          "text": [
            "Shape of Dataset: (131145, 3)\n"
          ]
        }
      ],
      "source": [
        "# 3. Select the data with products having more than 50 ratings and users who have given more than 50 ratings. \n",
        "# Report the shape of the final dataset\n",
        "author_df = df.author.value_counts()\n",
        "product_df = df['product'].value_counts()\n",
        "data_final=df[df['author'].isin(author_df[author_df>=50].index) & df['product'].isin(product_df[product_df>=50].index)]\n",
        "print(\"Shape of Dataset:\", data_final.shape)"
      ]
    },
    {
      "cell_type": "code",
      "execution_count": null,
      "id": "70e47357",
      "metadata": {
        "id": "70e47357",
        "outputId": "a89d13f7-5a4b-4af3-bb1d-a2b93d241990"
      },
      "outputs": [
        {
          "data": {
            "text/html": [
              "<div>\n",
              "<style scoped>\n",
              "    .dataframe tbody tr th:only-of-type {\n",
              "        vertical-align: middle;\n",
              "    }\n",
              "\n",
              "    .dataframe tbody tr th {\n",
              "        vertical-align: top;\n",
              "    }\n",
              "\n",
              "    .dataframe thead th {\n",
              "        text-align: right;\n",
              "    }\n",
              "</style>\n",
              "<table border=\"1\" class=\"dataframe\">\n",
              "  <thead>\n",
              "    <tr style=\"text-align: right;\">\n",
              "      <th></th>\n",
              "      <th>count</th>\n",
              "      <th>mean</th>\n",
              "      <th>Rank</th>\n",
              "    </tr>\n",
              "    <tr>\n",
              "      <th>product</th>\n",
              "      <th></th>\n",
              "      <th></th>\n",
              "      <th></th>\n",
              "    </tr>\n",
              "  </thead>\n",
              "  <tbody>\n",
              "    <tr>\n",
              "      <th>Lenovo Vibe K4 Note (White,16GB)</th>\n",
              "      <td>2191</td>\n",
              "      <td>6.927430</td>\n",
              "      <td>1.0</td>\n",
              "    </tr>\n",
              "    <tr>\n",
              "      <th>Lenovo Vibe K4 Note (Black, 16GB)</th>\n",
              "      <td>1827</td>\n",
              "      <td>6.985222</td>\n",
              "      <td>2.0</td>\n",
              "    </tr>\n",
              "    <tr>\n",
              "      <th>OnePlus 3 (Graphite, 64 GB)</th>\n",
              "      <td>1305</td>\n",
              "      <td>8.536398</td>\n",
              "      <td>3.0</td>\n",
              "    </tr>\n",
              "    <tr>\n",
              "      <th>OnePlus 3 (Soft Gold, 64 GB)</th>\n",
              "      <td>1234</td>\n",
              "      <td>8.312804</td>\n",
              "      <td>4.0</td>\n",
              "    </tr>\n",
              "    <tr>\n",
              "      <th>Lenovo Vibe K5 (Gold, VoLTE update)</th>\n",
              "      <td>1128</td>\n",
              "      <td>6.615248</td>\n",
              "      <td>5.0</td>\n",
              "    </tr>\n",
              "  </tbody>\n",
              "</table>\n",
              "</div>"
            ],
            "text/plain": [
              "                                     count      mean  Rank\n",
              "product                                                   \n",
              "Lenovo Vibe K4 Note (White,16GB)      2191  6.927430   1.0\n",
              "Lenovo Vibe K4 Note (Black, 16GB)     1827  6.985222   2.0\n",
              "OnePlus 3 (Graphite, 64 GB)           1305  8.536398   3.0\n",
              "OnePlus 3 (Soft Gold, 64 GB)          1234  8.312804   4.0\n",
              "Lenovo Vibe K5 (Gold, VoLTE update)   1128  6.615248   5.0"
            ]
          },
          "execution_count": 20,
          "metadata": {},
          "output_type": "execute_result"
        }
      ],
      "source": [
        "# Count of product for each unique user as recommendation score \n",
        "data_grouped = data_final.groupby('product').agg({'author':'count','score':'mean'}).reset_index()\n",
        "data_grouped.rename(columns={'author':'count','score':'mean'},inplace=True)\n",
        "\n",
        "# Sort the product on recommendation score \n",
        "data_sort = data_grouped.sort_values(['count'], ascending = False) \n",
        "      \n",
        "# Generate a recommendation rank based upon score \n",
        "data_sort['Rank'] = data_sort['count'].rank(ascending=False, method='first') \n",
        "          \n",
        "# Get the top 5 recommendations \n",
        "popularity_recommendations = data_sort.reset_index(drop=True).set_index('product').head() \n",
        "popularity_recommendations "
      ]
    },
    {
      "cell_type": "code",
      "execution_count": null,
      "id": "46bfd5dd",
      "metadata": {
        "id": "46bfd5dd"
      },
      "outputs": [],
      "source": [
        "# 4. Build a collaborative filtering model using SVD. You can use SVD from surprise or build it from scratch\n",
        "# (Note: Incase you’re building it from scratch you can limit your data points to 5000 samples if you face memory issues).\n",
        "# Build a collaborative filtering model using kNNWithMeans from surprise. You can try both user-based and item-based model.  "
      ]
    },
    {
      "cell_type": "code",
      "execution_count": null,
      "id": "be54623d",
      "metadata": {
        "id": "be54623d"
      },
      "outputs": [],
      "source": [
        "# conda install -c conda-forge scikit-surprise"
      ]
    },
    {
      "cell_type": "code",
      "execution_count": null,
      "id": "808b5c57",
      "metadata": {
        "id": "808b5c57"
      },
      "outputs": [],
      "source": [
        "from surprise import Reader\n",
        "from surprise import Dataset\n",
        "\n",
        "from surprise.model_selection import cross_validate\n",
        "from surprise import KNNWithMeans\n",
        "from surprise import SVD\n",
        "\n",
        "from surprise.accuracy import rmse\n",
        "from surprise.model_selection import train_test_split"
      ]
    },
    {
      "cell_type": "code",
      "execution_count": null,
      "id": "7c339a45",
      "metadata": {
        "id": "7c339a45"
      },
      "outputs": [],
      "source": [
        "reader = Reader(rating_scale=(1, 50))\n",
        "data = Dataset.load_from_df(data_final[['author', 'product', 'score']], reader)"
      ]
    },
    {
      "cell_type": "code",
      "execution_count": null,
      "id": "eb29beef",
      "metadata": {
        "id": "eb29beef"
      },
      "outputs": [],
      "source": [
        "# test set is made of 30% of the ratings.\n",
        "trainset, testset = train_test_split(data, test_size=0.3)"
      ]
    },
    {
      "cell_type": "code",
      "execution_count": null,
      "id": "ef57e27c",
      "metadata": {
        "id": "ef57e27c",
        "outputId": "0fe2999c-679a-432d-c88d-364ec61c45fb"
      },
      "outputs": [
        {
          "name": "stdout",
          "output_type": "stream",
          "text": [
            "Computing the msd similarity matrix...\n",
            "Done computing similarity matrix.\n"
          ]
        },
        {
          "data": {
            "text/plain": [
              "<surprise.prediction_algorithms.knns.KNNWithMeans at 0x7fae5e395520>"
            ]
          },
          "execution_count": 26,
          "metadata": {},
          "output_type": "execute_result"
        }
      ],
      "source": [
        "# SVD\n",
        "svd = SVD()\n",
        "svd.fit(trainset)\n",
        "\n",
        "# kNNWithMeans \n",
        "knn = KNNWithMeans()\n",
        "knn.fit(trainset)"
      ]
    },
    {
      "cell_type": "code",
      "execution_count": null,
      "id": "08c06087",
      "metadata": {
        "id": "08c06087",
        "outputId": "7c9ae3bb-82ac-4a4d-cdab-e93561c7153f"
      },
      "outputs": [
        {
          "name": "stdout",
          "output_type": "stream",
          "text": [
            "RMSE: 2.6441\n",
            "RMSE: 2.6506\n"
          ]
        }
      ],
      "source": [
        "# predict test users from svd\n",
        "predictions = svd.test(testset)\n",
        "rmse_svd = rmse(predictions)\n",
        "\n",
        "# predict test users from knn\n",
        "predictions_knn = knn.test(testset)\n",
        "rmse_knn = rmse(predictions_knn)"
      ]
    },
    {
      "cell_type": "code",
      "execution_count": null,
      "id": "3d453096",
      "metadata": {
        "id": "3d453096",
        "outputId": "e339e531-3bc6-44fd-d2cd-70c765d025bb"
      },
      "outputs": [
        {
          "data": {
            "text/html": [
              "<div>\n",
              "<style scoped>\n",
              "    .dataframe tbody tr th:only-of-type {\n",
              "        vertical-align: middle;\n",
              "    }\n",
              "\n",
              "    .dataframe tbody tr th {\n",
              "        vertical-align: top;\n",
              "    }\n",
              "\n",
              "    .dataframe thead th {\n",
              "        text-align: right;\n",
              "    }\n",
              "</style>\n",
              "<table border=\"1\" class=\"dataframe\">\n",
              "  <thead>\n",
              "    <tr style=\"text-align: right;\">\n",
              "      <th></th>\n",
              "      <th>RMSE</th>\n",
              "    </tr>\n",
              "  </thead>\n",
              "  <tbody>\n",
              "    <tr>\n",
              "      <th>SVD</th>\n",
              "      <td>2.644097</td>\n",
              "    </tr>\n",
              "    <tr>\n",
              "      <th>KNNWithMeans</th>\n",
              "      <td>2.650554</td>\n",
              "    </tr>\n",
              "  </tbody>\n",
              "</table>\n",
              "</div>"
            ],
            "text/plain": [
              "                  RMSE\n",
              "SVD           2.644097\n",
              "KNNWithMeans  2.650554"
            ]
          },
          "execution_count": 28,
          "metadata": {},
          "output_type": "execute_result"
        }
      ],
      "source": [
        "rmse_ = pd.DataFrame([rmse_svd,rmse_knn], index = ['SVD','KNNWithMeans'], columns=['RMSE'])\n",
        "rmse_"
      ]
    },
    {
      "cell_type": "code",
      "execution_count": null,
      "id": "248b12cc",
      "metadata": {
        "id": "248b12cc",
        "outputId": "026cf928-ed54-4578-b702-7d0bf7c0a3ba"
      },
      "outputs": [
        {
          "name": "stdout",
          "output_type": "stream",
          "text": [
            " \n",
            "\tuser:Amazon Customer\n",
            "\tproduct:OnePlus X (Onyx, 16GB)\n",
            "\tRating:7.54\n"
          ]
        }
      ],
      "source": [
        "# get a prediction for specific users and items.\n",
        "user = 'Amazon Customer'\n",
        "product = 'OnePlus X (Onyx, 16GB)'\n",
        "pred = svd.predict(user, product , verbose=False)\n",
        "print(f\" \\n\\tuser:{user}\\n\\tproduct:{product}\\n\\tRating:{round(pred.est,2)}\")"
      ]
    },
    {
      "cell_type": "code",
      "execution_count": null,
      "id": "1359b6e5",
      "metadata": {
        "id": "1359b6e5",
        "outputId": "46f9414a-8747-4ada-936c-8993a92d61c3"
      },
      "outputs": [
        {
          "data": {
            "text/html": [
              "<div>\n",
              "<style scoped>\n",
              "    .dataframe tbody tr th:only-of-type {\n",
              "        vertical-align: middle;\n",
              "    }\n",
              "\n",
              "    .dataframe tbody tr th {\n",
              "        vertical-align: top;\n",
              "    }\n",
              "\n",
              "    .dataframe thead th {\n",
              "        text-align: right;\n",
              "    }\n",
              "</style>\n",
              "<table border=\"1\" class=\"dataframe\">\n",
              "  <thead>\n",
              "    <tr style=\"text-align: right;\">\n",
              "      <th></th>\n",
              "      <th>product</th>\n",
              "      <th>actual_score</th>\n",
              "      <th>predicted_score</th>\n",
              "      <th>avg_rating</th>\n",
              "    </tr>\n",
              "  </thead>\n",
              "  <tbody>\n",
              "    <tr>\n",
              "      <th>936</th>\n",
              "      <td>Huawei Honor Pro</td>\n",
              "      <td>8.285714</td>\n",
              "      <td>10.260078</td>\n",
              "      <td>0.002634</td>\n",
              "    </tr>\n",
              "    <tr>\n",
              "      <th>3834</th>\n",
              "      <td>Xiaomi Redmi 3</td>\n",
              "      <td>9.000000</td>\n",
              "      <td>10.153584</td>\n",
              "      <td>0.002607</td>\n",
              "    </tr>\n",
              "    <tr>\n",
              "      <th>1134</th>\n",
              "      <td>LG G2 T-Mobile D801</td>\n",
              "      <td>5.000000</td>\n",
              "      <td>10.039110</td>\n",
              "      <td>0.002577</td>\n",
              "    </tr>\n",
              "    <tr>\n",
              "      <th>1315</th>\n",
              "      <td>LG Optimus L9 (P760) - Smartphone libre Androi...</td>\n",
              "      <td>10.000000</td>\n",
              "      <td>10.000777</td>\n",
              "      <td>0.002568</td>\n",
              "    </tr>\n",
              "    <tr>\n",
              "      <th>3008</th>\n",
              "      <td>Samsung Galaxy S7 Edge Duos SM-G935FD 32GB Dua...</td>\n",
              "      <td>10.000000</td>\n",
              "      <td>9.996753</td>\n",
              "      <td>0.002567</td>\n",
              "    </tr>\n",
              "    <tr>\n",
              "      <th>...</th>\n",
              "      <td>...</td>\n",
              "      <td>...</td>\n",
              "      <td>...</td>\n",
              "      <td>...</td>\n",
              "    </tr>\n",
              "    <tr>\n",
              "      <th>3197</th>\n",
              "      <td>Samsung S8000 Jet</td>\n",
              "      <td>2.551724</td>\n",
              "      <td>2.772286</td>\n",
              "      <td>0.000712</td>\n",
              "    </tr>\n",
              "    <tr>\n",
              "      <th>1191</th>\n",
              "      <td>LG GW520</td>\n",
              "      <td>1.875000</td>\n",
              "      <td>2.051553</td>\n",
              "      <td>0.000527</td>\n",
              "    </tr>\n",
              "    <tr>\n",
              "      <th>3669</th>\n",
              "      <td>Sony Xperia Z Smartphone (12,7 cm (5 Zoll) Tou...</td>\n",
              "      <td>6.000000</td>\n",
              "      <td>2.006224</td>\n",
              "      <td>0.000515</td>\n",
              "    </tr>\n",
              "    <tr>\n",
              "      <th>399</th>\n",
              "      <td>BlackBerry 8220 Flip Pearl Unlocked Phone , GP...</td>\n",
              "      <td>2.000000</td>\n",
              "      <td>1.544997</td>\n",
              "      <td>0.000397</td>\n",
              "    </tr>\n",
              "    <tr>\n",
              "      <th>3526</th>\n",
              "      <td>Sony Ericsson Xperia X10 Mini Pro</td>\n",
              "      <td>1.000000</td>\n",
              "      <td>1.486900</td>\n",
              "      <td>0.000382</td>\n",
              "    </tr>\n",
              "  </tbody>\n",
              "</table>\n",
              "<p>3895 rows × 4 columns</p>\n",
              "</div>"
            ],
            "text/plain": [
              "                                                product  actual_score  \\\n",
              "936                                    Huawei Honor Pro      8.285714   \n",
              "3834                                     Xiaomi Redmi 3      9.000000   \n",
              "1134                                LG G2 T-Mobile D801      5.000000   \n",
              "1315  LG Optimus L9 (P760) - Smartphone libre Androi...     10.000000   \n",
              "3008  Samsung Galaxy S7 Edge Duos SM-G935FD 32GB Dua...     10.000000   \n",
              "...                                                 ...           ...   \n",
              "3197                                  Samsung S8000 Jet      2.551724   \n",
              "1191                                           LG GW520      1.875000   \n",
              "3669  Sony Xperia Z Smartphone (12,7 cm (5 Zoll) Tou...      6.000000   \n",
              "399   BlackBerry 8220 Flip Pearl Unlocked Phone , GP...      2.000000   \n",
              "3526                  Sony Ericsson Xperia X10 Mini Pro      1.000000   \n",
              "\n",
              "      predicted_score  avg_rating  \n",
              "936         10.260078    0.002634  \n",
              "3834        10.153584    0.002607  \n",
              "1134        10.039110    0.002577  \n",
              "1315        10.000777    0.002568  \n",
              "3008         9.996753    0.002567  \n",
              "...               ...         ...  \n",
              "3197         2.772286    0.000712  \n",
              "1191         2.051553    0.000527  \n",
              "3669         2.006224    0.000515  \n",
              "399          1.544997    0.000397  \n",
              "3526         1.486900    0.000382  \n",
              "\n",
              "[3895 rows x 4 columns]"
            ]
          },
          "execution_count": 31,
          "metadata": {},
          "output_type": "execute_result"
        }
      ],
      "source": [
        "# 6. Predict score (average rating) for test users.  \n",
        "\n",
        "# Prediction SVD model\n",
        "average_rat = pd.DataFrame(predictions)[['iid','r_ui','est']].rename(columns={'iid':'product', 'r_ui':'actual_score','est':'predicted_score'})\n",
        "average_rat = average_rat.groupby('product')['actual_score','predicted_score'].mean().reset_index()\n",
        "average_rat['avg_rating'] = average_rat['predicted_score']/average_rat.shape[0]\n",
        "average_rat.sort_values(by=['predicted_score','avg_rating'], ascending=[0,0])"
      ]
    },
    {
      "cell_type": "code",
      "execution_count": null,
      "id": "4e8bfb5d",
      "metadata": {
        "id": "4e8bfb5d",
        "outputId": "fea73265-ea41-45d7-a739-63db394c7d7f"
      },
      "outputs": [
        {
          "data": {
            "text/html": [
              "<div>\n",
              "<style scoped>\n",
              "    .dataframe tbody tr th:only-of-type {\n",
              "        vertical-align: middle;\n",
              "    }\n",
              "\n",
              "    .dataframe tbody tr th {\n",
              "        vertical-align: top;\n",
              "    }\n",
              "\n",
              "    .dataframe thead th {\n",
              "        text-align: right;\n",
              "    }\n",
              "</style>\n",
              "<table border=\"1\" class=\"dataframe\">\n",
              "  <thead>\n",
              "    <tr style=\"text-align: right;\">\n",
              "      <th></th>\n",
              "      <th>product</th>\n",
              "      <th>actual_score</th>\n",
              "      <th>predicted_score</th>\n",
              "      <th>avg_rating</th>\n",
              "    </tr>\n",
              "  </thead>\n",
              "  <tbody>\n",
              "    <tr>\n",
              "      <th>1585</th>\n",
              "      <td>Microsoft Nokia 1650 dark red (Farbdisplay, UK...</td>\n",
              "      <td>9.000</td>\n",
              "      <td>11.401389</td>\n",
              "      <td>0.002927</td>\n",
              "    </tr>\n",
              "    <tr>\n",
              "      <th>870</th>\n",
              "      <td>Huawei Ascend Mate 7 Smartphone (6 Zoll (15,2 ...</td>\n",
              "      <td>9.500</td>\n",
              "      <td>11.114759</td>\n",
              "      <td>0.002854</td>\n",
              "    </tr>\n",
              "    <tr>\n",
              "      <th>2445</th>\n",
              "      <td>Samsung E2550 Handy (Social Networking Dienste...</td>\n",
              "      <td>8.000</td>\n",
              "      <td>10.996511</td>\n",
              "      <td>0.002823</td>\n",
              "    </tr>\n",
              "    <tr>\n",
              "      <th>2382</th>\n",
              "      <td>Samsung B2700 Handy (IP54-Zertifizierung) char...</td>\n",
              "      <td>10.000</td>\n",
              "      <td>10.946813</td>\n",
              "      <td>0.002810</td>\n",
              "    </tr>\n",
              "    <tr>\n",
              "      <th>1063</th>\n",
              "      <td>LG Electronics E440 Optimus L4 II Smartphone (...</td>\n",
              "      <td>10.000</td>\n",
              "      <td>10.946484</td>\n",
              "      <td>0.002810</td>\n",
              "    </tr>\n",
              "    <tr>\n",
              "      <th>...</th>\n",
              "      <td>...</td>\n",
              "      <td>...</td>\n",
              "      <td>...</td>\n",
              "      <td>...</td>\n",
              "    </tr>\n",
              "    <tr>\n",
              "      <th>1082</th>\n",
              "      <td>LG Electronics GD880 Mini Smartphone (HSDPA, 5...</td>\n",
              "      <td>10.000</td>\n",
              "      <td>1.988732</td>\n",
              "      <td>0.000511</td>\n",
              "    </tr>\n",
              "    <tr>\n",
              "      <th>1601</th>\n",
              "      <td>Microsoft Nokia 6700 slide Handy (UMTS, GPRS, ...</td>\n",
              "      <td>10.000</td>\n",
              "      <td>1.484016</td>\n",
              "      <td>0.000381</td>\n",
              "    </tr>\n",
              "    <tr>\n",
              "      <th>1191</th>\n",
              "      <td>LG GW520</td>\n",
              "      <td>1.875</td>\n",
              "      <td>1.309628</td>\n",
              "      <td>0.000336</td>\n",
              "    </tr>\n",
              "    <tr>\n",
              "      <th>3163</th>\n",
              "      <td>Samsung S5230 Hello Kitty Pink Unlocked GSM Qu...</td>\n",
              "      <td>10.000</td>\n",
              "      <td>1.274049</td>\n",
              "      <td>0.000327</td>\n",
              "    </tr>\n",
              "    <tr>\n",
              "      <th>3526</th>\n",
              "      <td>Sony Ericsson Xperia X10 Mini Pro</td>\n",
              "      <td>1.000</td>\n",
              "      <td>1.042964</td>\n",
              "      <td>0.000268</td>\n",
              "    </tr>\n",
              "  </tbody>\n",
              "</table>\n",
              "<p>3895 rows × 4 columns</p>\n",
              "</div>"
            ],
            "text/plain": [
              "                                                product  actual_score  \\\n",
              "1585  Microsoft Nokia 1650 dark red (Farbdisplay, UK...         9.000   \n",
              "870   Huawei Ascend Mate 7 Smartphone (6 Zoll (15,2 ...         9.500   \n",
              "2445  Samsung E2550 Handy (Social Networking Dienste...         8.000   \n",
              "2382  Samsung B2700 Handy (IP54-Zertifizierung) char...        10.000   \n",
              "1063  LG Electronics E440 Optimus L4 II Smartphone (...        10.000   \n",
              "...                                                 ...           ...   \n",
              "1082  LG Electronics GD880 Mini Smartphone (HSDPA, 5...        10.000   \n",
              "1601  Microsoft Nokia 6700 slide Handy (UMTS, GPRS, ...        10.000   \n",
              "1191                                           LG GW520         1.875   \n",
              "3163  Samsung S5230 Hello Kitty Pink Unlocked GSM Qu...        10.000   \n",
              "3526                  Sony Ericsson Xperia X10 Mini Pro         1.000   \n",
              "\n",
              "      predicted_score  avg_rating  \n",
              "1585        11.401389    0.002927  \n",
              "870         11.114759    0.002854  \n",
              "2445        10.996511    0.002823  \n",
              "2382        10.946813    0.002810  \n",
              "1063        10.946484    0.002810  \n",
              "...               ...         ...  \n",
              "1082         1.988732    0.000511  \n",
              "1601         1.484016    0.000381  \n",
              "1191         1.309628    0.000336  \n",
              "3163         1.274049    0.000327  \n",
              "3526         1.042964    0.000268  \n",
              "\n",
              "[3895 rows x 4 columns]"
            ]
          },
          "execution_count": 32,
          "metadata": {},
          "output_type": "execute_result"
        }
      ],
      "source": [
        "# Prediction KNN model\n",
        "average_rat_knn = pd.DataFrame(predictions_knn)[['iid','r_ui','est']].rename(columns={'iid':'product', 'r_ui':'actual_score','est':'predicted_score'})\n",
        "average_rat_knn = average_rat_knn.groupby('product')['actual_score','predicted_score'].mean().reset_index()\n",
        "average_rat_knn['avg_rating'] = average_rat_knn['predicted_score']/average_rat_knn.shape[0]\n",
        "average_rat_knn.sort_values(by=['predicted_score','avg_rating'], ascending=[0,0])"
      ]
    },
    {
      "cell_type": "markdown",
      "id": "50a42da1",
      "metadata": {
        "id": "50a42da1"
      },
      "source": [
        "7. Report your findings and inferences\n",
        "* From above analysis, we fit the SVD and KnnwithMeans and predicted the rating against product in which predicted average rating of product `Huawei Honor Pro` is a most recommended product using SVD model.\n",
        "* KnnwithMeans recommended the best product that has highest predicted average rating is `Microsoft Nokia 1650 dark red (Farbdisplay, UKW-Stereo-Radio, Organizer, Spiele) Handy`.\n",
        "* SVD (0.002634) best product average rating is less than KNNwithMeans model (0.002927).\n",
        "* Therefore, `Microsoft Nokia 1650 dark red (Farbdisplay, UKW-Stereo-Radio, Organizer, Spiele) Handy` is most preferable as compare to `Huawei Honor Pro"
      ]
    },
    {
      "cell_type": "code",
      "execution_count": null,
      "id": "f126f8af",
      "metadata": {
        "id": "f126f8af",
        "outputId": "756bc6c9-a056-4fa1-e756-b8bbbfa277cf"
      },
      "outputs": [
        {
          "name": "stdout",
          "output_type": "stream",
          "text": [
            "\t\tSVD Recommended Products\n"
          ]
        },
        {
          "data": {
            "text/html": [
              "<div>\n",
              "<style scoped>\n",
              "    .dataframe tbody tr th:only-of-type {\n",
              "        vertical-align: middle;\n",
              "    }\n",
              "\n",
              "    .dataframe tbody tr th {\n",
              "        vertical-align: top;\n",
              "    }\n",
              "\n",
              "    .dataframe thead th {\n",
              "        text-align: right;\n",
              "    }\n",
              "</style>\n",
              "<table border=\"1\" class=\"dataframe\">\n",
              "  <thead>\n",
              "    <tr style=\"text-align: right;\">\n",
              "      <th></th>\n",
              "      <th>actual_score</th>\n",
              "      <th>predicted_score</th>\n",
              "      <th>avg_rating</th>\n",
              "      <th>Rank</th>\n",
              "    </tr>\n",
              "    <tr>\n",
              "      <th>product</th>\n",
              "      <th></th>\n",
              "      <th></th>\n",
              "      <th></th>\n",
              "      <th></th>\n",
              "    </tr>\n",
              "  </thead>\n",
              "  <tbody>\n",
              "    <tr>\n",
              "      <th>Huawei Honor Pro</th>\n",
              "      <td>8.285714</td>\n",
              "      <td>10.260078</td>\n",
              "      <td>0.002634</td>\n",
              "      <td>1.0</td>\n",
              "    </tr>\n",
              "    <tr>\n",
              "      <th>Xiaomi Redmi 3</th>\n",
              "      <td>9.000000</td>\n",
              "      <td>10.153584</td>\n",
              "      <td>0.002607</td>\n",
              "      <td>2.0</td>\n",
              "    </tr>\n",
              "    <tr>\n",
              "      <th>LG G2 T-Mobile D801</th>\n",
              "      <td>5.000000</td>\n",
              "      <td>10.039110</td>\n",
              "      <td>0.002577</td>\n",
              "      <td>3.0</td>\n",
              "    </tr>\n",
              "    <tr>\n",
              "      <th>LG Optimus L9 (P760) - Smartphone libre Android (pantalla 4.7\", cÃ¡mara 5 Mp, 4 GB, 1 GHz, 1 GB RAM), blanco (importado)</th>\n",
              "      <td>10.000000</td>\n",
              "      <td>10.000777</td>\n",
              "      <td>0.002568</td>\n",
              "      <td>4.0</td>\n",
              "    </tr>\n",
              "    <tr>\n",
              "      <th>Samsung Galaxy S7 Edge Duos SM-G935FD 32GB Dual SIM Factory Unlocked GSM Smartphone - International Version, No Warranty (Titanium Silver)</th>\n",
              "      <td>10.000000</td>\n",
              "      <td>9.996753</td>\n",
              "      <td>0.002567</td>\n",
              "      <td>5.0</td>\n",
              "    </tr>\n",
              "  </tbody>\n",
              "</table>\n",
              "</div>"
            ],
            "text/plain": [
              "                                                    actual_score  \\\n",
              "product                                                            \n",
              "Huawei Honor Pro                                        8.285714   \n",
              "Xiaomi Redmi 3                                          9.000000   \n",
              "LG G2 T-Mobile D801                                     5.000000   \n",
              "LG Optimus L9 (P760) - Smartphone libre Android...     10.000000   \n",
              "Samsung Galaxy S7 Edge Duos SM-G935FD 32GB Dual...     10.000000   \n",
              "\n",
              "                                                    predicted_score  \\\n",
              "product                                                               \n",
              "Huawei Honor Pro                                          10.260078   \n",
              "Xiaomi Redmi 3                                            10.153584   \n",
              "LG G2 T-Mobile D801                                       10.039110   \n",
              "LG Optimus L9 (P760) - Smartphone libre Android...        10.000777   \n",
              "Samsung Galaxy S7 Edge Duos SM-G935FD 32GB Dual...         9.996753   \n",
              "\n",
              "                                                    avg_rating  Rank  \n",
              "product                                                               \n",
              "Huawei Honor Pro                                      0.002634   1.0  \n",
              "Xiaomi Redmi 3                                        0.002607   2.0  \n",
              "LG G2 T-Mobile D801                                   0.002577   3.0  \n",
              "LG Optimus L9 (P760) - Smartphone libre Android...    0.002568   4.0  \n",
              "Samsung Galaxy S7 Edge Duos SM-G935FD 32GB Dual...    0.002567   5.0  "
            ]
          },
          "execution_count": 33,
          "metadata": {},
          "output_type": "execute_result"
        }
      ],
      "source": [
        "# 8.Try and recommend top 5 products for test users.  \n",
        "\n",
        "# SVD Recommended Products\n",
        "print(\"\\t\\tSVD Recommended Products\")\n",
        "topRecommProductSVD = average_rat.sort_values(by=['avg_rating'], ascending=[0])\n",
        "topRecommProductSVD['Rank'] = topRecommProductSVD['avg_rating'].rank(ascending=False, method='first')\n",
        "topRecommProductSVD.reset_index(drop=True).set_index('product').head()"
      ]
    },
    {
      "cell_type": "code",
      "execution_count": null,
      "id": "4e4df453",
      "metadata": {
        "id": "4e4df453",
        "outputId": "6eaab391-6b66-4a12-d23b-a486741b3ecd"
      },
      "outputs": [
        {
          "name": "stdout",
          "output_type": "stream",
          "text": [
            "\t\tKNN Recommended Products\n"
          ]
        },
        {
          "data": {
            "text/html": [
              "<div>\n",
              "<style scoped>\n",
              "    .dataframe tbody tr th:only-of-type {\n",
              "        vertical-align: middle;\n",
              "    }\n",
              "\n",
              "    .dataframe tbody tr th {\n",
              "        vertical-align: top;\n",
              "    }\n",
              "\n",
              "    .dataframe thead th {\n",
              "        text-align: right;\n",
              "    }\n",
              "</style>\n",
              "<table border=\"1\" class=\"dataframe\">\n",
              "  <thead>\n",
              "    <tr style=\"text-align: right;\">\n",
              "      <th></th>\n",
              "      <th>actual_score</th>\n",
              "      <th>predicted_score</th>\n",
              "      <th>avg_rating</th>\n",
              "      <th>Rank</th>\n",
              "    </tr>\n",
              "    <tr>\n",
              "      <th>product</th>\n",
              "      <th></th>\n",
              "      <th></th>\n",
              "      <th></th>\n",
              "      <th></th>\n",
              "    </tr>\n",
              "  </thead>\n",
              "  <tbody>\n",
              "    <tr>\n",
              "      <th>Microsoft Nokia 1650 dark red (Farbdisplay, UKW-Stereo-Radio, Organizer, Spiele) Handy</th>\n",
              "      <td>9.0</td>\n",
              "      <td>11.401389</td>\n",
              "      <td>0.002927</td>\n",
              "      <td>1.0</td>\n",
              "    </tr>\n",
              "    <tr>\n",
              "      <th>Huawei Ascend Mate 7 Smartphone (6 Zoll (15,2 cm) Touch-Display, 16 GB Speicher, Android 4.4 ) obsidian black</th>\n",
              "      <td>9.5</td>\n",
              "      <td>11.114759</td>\n",
              "      <td>0.002854</td>\n",
              "      <td>2.0</td>\n",
              "    </tr>\n",
              "    <tr>\n",
              "      <th>Samsung E2550 Handy (Social Networking Dienste, Kamera, MP3-Player) strong-black</th>\n",
              "      <td>8.0</td>\n",
              "      <td>10.996511</td>\n",
              "      <td>0.002823</td>\n",
              "      <td>3.0</td>\n",
              "    </tr>\n",
              "    <tr>\n",
              "      <th>Samsung B2700 Handy (IP54-Zertifizierung) charcoal-gray</th>\n",
              "      <td>10.0</td>\n",
              "      <td>10.946813</td>\n",
              "      <td>0.002810</td>\n",
              "      <td>4.0</td>\n",
              "    </tr>\n",
              "    <tr>\n",
              "      <th>LG Electronics E440 Optimus L4 II Smartphone (9,6 cm (3,8 Zoll) Display, 3 Megapixel Kamera, WiFi, Android 4.1) schwarz</th>\n",
              "      <td>10.0</td>\n",
              "      <td>10.946484</td>\n",
              "      <td>0.002810</td>\n",
              "      <td>5.0</td>\n",
              "    </tr>\n",
              "  </tbody>\n",
              "</table>\n",
              "</div>"
            ],
            "text/plain": [
              "                                                    actual_score  \\\n",
              "product                                                            \n",
              "Microsoft Nokia 1650 dark red (Farbdisplay, UKW...           9.0   \n",
              "Huawei Ascend Mate 7 Smartphone (6 Zoll (15,2 c...           9.5   \n",
              "Samsung E2550 Handy (Social Networking Dienste,...           8.0   \n",
              "Samsung B2700 Handy (IP54-Zertifizierung) charc...          10.0   \n",
              "LG Electronics E440 Optimus L4 II Smartphone (9...          10.0   \n",
              "\n",
              "                                                    predicted_score  \\\n",
              "product                                                               \n",
              "Microsoft Nokia 1650 dark red (Farbdisplay, UKW...        11.401389   \n",
              "Huawei Ascend Mate 7 Smartphone (6 Zoll (15,2 c...        11.114759   \n",
              "Samsung E2550 Handy (Social Networking Dienste,...        10.996511   \n",
              "Samsung B2700 Handy (IP54-Zertifizierung) charc...        10.946813   \n",
              "LG Electronics E440 Optimus L4 II Smartphone (9...        10.946484   \n",
              "\n",
              "                                                    avg_rating  Rank  \n",
              "product                                                               \n",
              "Microsoft Nokia 1650 dark red (Farbdisplay, UKW...    0.002927   1.0  \n",
              "Huawei Ascend Mate 7 Smartphone (6 Zoll (15,2 c...    0.002854   2.0  \n",
              "Samsung E2550 Handy (Social Networking Dienste,...    0.002823   3.0  \n",
              "Samsung B2700 Handy (IP54-Zertifizierung) charc...    0.002810   4.0  \n",
              "LG Electronics E440 Optimus L4 II Smartphone (9...    0.002810   5.0  "
            ]
          },
          "execution_count": 34,
          "metadata": {},
          "output_type": "execute_result"
        }
      ],
      "source": [
        "# KNN Recommended Products\n",
        "print(\"\\t\\tKNN Recommended Products\")\n",
        "topRecommProductKNN = average_rat_knn.sort_values(by=['avg_rating'], ascending=[0])\n",
        "topRecommProductKNN['Rank'] = topRecommProductKNN['avg_rating'].rank(ascending=False, method='first')\n",
        "topRecommProductKNN.reset_index(drop=True).set_index('product').head()"
      ]
    },
    {
      "cell_type": "code",
      "execution_count": null,
      "id": "2aa6830d",
      "metadata": {
        "id": "2aa6830d",
        "outputId": "78a41333-0435-4241-b030-0d606df53156"
      },
      "outputs": [
        {
          "name": "stdout",
          "output_type": "stream",
          "text": [
            "Evaluating RMSE of algorithm SVD on 5 split(s).\n",
            "\n",
            "                  Fold 1  Fold 2  Fold 3  Fold 4  Fold 5  Mean    Std     \n",
            "RMSE (testset)    2.6306  2.6243  2.6147  2.6397  2.6325  2.6284  0.0084  \n",
            "Fit time          4.85    5.43    4.85    4.95    4.73    4.96    0.24    \n",
            "Test time         0.23    0.13    0.23    0.13    0.13    0.17    0.05    \n"
          ]
        }
      ],
      "source": [
        "# 9. Try other techniques (Example: cross validation) to get better results.  \n",
        "\n",
        "# Run 5-fold cross-validation and print results SVD\n",
        "svd_cross_validate_res = cross_validate(svd, data, measures=['RMSE'], cv=5, verbose=True)"
      ]
    },
    {
      "cell_type": "code",
      "execution_count": null,
      "id": "49d7f4ef",
      "metadata": {
        "id": "49d7f4ef",
        "outputId": "c79bed20-9ff8-4c9e-cc78-a6baa6feddc2"
      },
      "outputs": [
        {
          "name": "stdout",
          "output_type": "stream",
          "text": [
            "SVD Cross Validation Results\n",
            "\n",
            "test_rmse    2.628364\n",
            "fit_time     4.961449\n",
            "test_time    0.168178\n",
            "dtype: float64\n"
          ]
        }
      ],
      "source": [
        "print(\"SVD Cross Validation Results\\n\")\n",
        "print(pd.DataFrame(svd_cross_validate_res).mean(axis = 0))"
      ]
    },
    {
      "cell_type": "code",
      "execution_count": null,
      "id": "4fffe174",
      "metadata": {
        "id": "4fffe174",
        "outputId": "dcad171b-3ddb-42c6-a257-b4ec3a8c7354"
      },
      "outputs": [
        {
          "name": "stdout",
          "output_type": "stream",
          "text": [
            "Computing the msd similarity matrix...\n",
            "Done computing similarity matrix.\n",
            "Computing the msd similarity matrix...\n",
            "Done computing similarity matrix.\n",
            "Computing the msd similarity matrix...\n",
            "Done computing similarity matrix.\n",
            "Computing the msd similarity matrix...\n",
            "Done computing similarity matrix.\n",
            "Computing the msd similarity matrix...\n",
            "Done computing similarity matrix.\n",
            "Evaluating RMSE of algorithm KNNWithMeans on 5 split(s).\n",
            "\n",
            "                  Fold 1  Fold 2  Fold 3  Fold 4  Fold 5  Mean    Std     \n",
            "RMSE (testset)    2.6317  2.6178  2.6249  2.6125  2.6238  2.6221  0.0065  \n",
            "Fit time          0.35    0.33    0.33    0.37    0.34    0.34    0.01    \n",
            "Test time         2.61    2.32    2.49    2.52    2.34    2.46    0.11    \n"
          ]
        }
      ],
      "source": [
        "# Run 5-fold cross-validation and print results KNNwithMeans\n",
        "knn_cross_validate_res = cross_validate(knn, data, measures=['RMSE'], cv=5, verbose=True)"
      ]
    },
    {
      "cell_type": "code",
      "execution_count": null,
      "id": "b45b291a",
      "metadata": {
        "id": "b45b291a",
        "outputId": "377020fc-ab68-417b-f313-8834bfb32bdb"
      },
      "outputs": [
        {
          "name": "stdout",
          "output_type": "stream",
          "text": [
            "KNNWithMeans Cross Validation Results\n",
            "\n",
            "test_rmse    2.622130\n",
            "fit_time     0.343832\n",
            "test_time    2.455751\n",
            "dtype: float64\n"
          ]
        }
      ],
      "source": [
        "print(\"KNNWithMeans Cross Validation Results\\n\")\n",
        "print(pd.DataFrame(knn_cross_validate_res).mean(axis = 0))"
      ]
    },
    {
      "cell_type": "code",
      "execution_count": null,
      "id": "b9443096",
      "metadata": {
        "id": "b9443096"
      },
      "outputs": [],
      "source": [
        "# 10. In what business scenario you should use popularity based Recommendation Systems ?   "
      ]
    },
    {
      "cell_type": "markdown",
      "id": "5bc8b691",
      "metadata": {
        "id": "5bc8b691"
      },
      "source": [
        "* Popularity based recommendation system works with the trend. It basically uses the items which are in trend right now. For example, if any product which is usually bought by every new user then there are chances that it may suggest that item to the user who just signed up.\n",
        "* The Popularity-based recommender system is non-personalised and the recommendations are based on frequecy counts, which may be not suitable to the user"
      ]
    },
    {
      "cell_type": "code",
      "execution_count": null,
      "id": "d72139c6",
      "metadata": {
        "id": "d72139c6"
      },
      "outputs": [],
      "source": [
        "# 11. In what business scenario you should use CF based Recommendation Systems ?   "
      ]
    },
    {
      "cell_type": "markdown",
      "id": "a472796c",
      "metadata": {
        "id": "a472796c"
      },
      "source": [
        "* Most websites like Amazon, YouTube, and Netflix use collaborative filtering as a part of their sophisticated recommendation systems. You can use this technique to build recommenders that give suggestions to a user on the basis of the likes and dislikes of similar users\n",
        "* Model-based Collaborative Filtering is a personalised recommender system, the recommendations are based on the past behavior of the user and it is not dependent on any additional information.\n",
        "* Collaborative Filtering based model has recommended entire different list based on the user past purchase history"
      ]
    },
    {
      "cell_type": "code",
      "execution_count": null,
      "id": "397cf253",
      "metadata": {
        "id": "397cf253"
      },
      "outputs": [],
      "source": [
        "# 12. What other possible methods can you think of which can further improve the recommendation for different users ?"
      ]
    },
    {
      "cell_type": "markdown",
      "id": "602d566f",
      "metadata": {
        "id": "602d566f"
      },
      "source": [
        "We can Improve the recommendation\n",
        "* Ditch Your User-Based Collaborative Filtering Model\n",
        "* A Gold Standard Similarity Computation Technique\n",
        "* Boost Your Algorithm Using Model Size"
      ]
    }
  ],
  "metadata": {
    "colab": {
      "collapsed_sections": [],
      "name": "RecommendationSystemSurpriseLibrary.ipynb",
      "provenance": []
    },
    "kernelspec": {
      "display_name": "Python 3 (ipykernel)",
      "language": "python",
      "name": "python3"
    },
    "language_info": {
      "codemirror_mode": {
        "name": "ipython",
        "version": 3
      },
      "file_extension": ".py",
      "mimetype": "text/x-python",
      "name": "python",
      "nbconvert_exporter": "python",
      "pygments_lexer": "ipython3",
      "version": "3.9.7"
    }
  },
  "nbformat": 4,
  "nbformat_minor": 5
}